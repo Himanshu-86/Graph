{
 "cells": [
  {
   "cell_type": "code",
   "execution_count": 27,
   "metadata": {},
   "outputs": [],
   "source": [
    "# write adjacency matrix, adjacency list, and adjacency edge list for the given graph\n",
    "adjacency_matrix =[[0,1,1,1,0],[1,0,0,0,1],[1,0,0,0,1],[1,0,0,0,0],[1,0,1,0,0]]\n",
    "\n",
    "\n",
    "adjacency_list = {\"s1\":[\"s2\",\"s3\",\"s4\"],\"s2\":[\"s1\",\"s5\"],\"s3\":[\"s1\",\"s5\"],\"s4\":[\"s2\"],\"s5\":[\"s1\",\"s3\"]}\n",
    "adjacency_edge_list = [(\"s1\",\"s2\"),(\"s1\",\"s3\"),(\"s1\",\"s4\"),(\"s2\",\"s1\"),(\"s2\",\"s5\"),(\"s3\",\"s1\"),(\"s3\",\"s5\"),(\"s4\",\"s2\"),(\"s5\",\"s1\"),(\"s5\",\"s3\")]"
   ]
  },
  {
   "cell_type": "code",
   "execution_count": null,
   "metadata": {},
   "outputs": [
    {
     "name": "stdout",
     "output_type": "stream",
     "text": [
      "{'s4': 1, 's2': 2, 's3': 2, 's5': 2, 's1': 3}\n",
      "{'s4': 1, 's2': 2, 's3': 2, 's5': 2, 's1': 3}\n",
      "{'s4': 1, 's2': 2, 's3': 2, 's5': 2, 's1': 3}\n"
     ]
    }
   ],
   "source": [
    "# 1. Write a code to find the degree of each vertex, and store it in a dictionary. Sort the keys of the dictionary by the degree stored in the values.\n",
    "\n",
    "def degree_of_nodes(graph):\n",
    "    \"\"\"\n",
    "    This function calculates the degree of each node in a graph.\n",
    "    It can handle three types of graph representations:\n",
    "    1. Adjacency Matrix\n",
    "    2. Adjacency List\n",
    "    3. Edge List\n",
    "\n",
    "    Returns a dictionary where keys are node names and values are their degrees.\n",
    "    \"\"\"\n",
    "    \n",
    "    degree = {}  # Dictionary to store the degree of each node\n",
    "\n",
    "    # Case 1: If the input is an adjacency matrix (list of lists)\n",
    "    if isinstance(graph, list):  \n",
    "        if isinstance(graph[0], list):  # Check if it's a matrix (2D list)\n",
    "            for i in range(len(graph)):  # Loop through each row (node)\n",
    "                count = 0  # Initialize degree count for this node\n",
    "                for j in range(len(graph[i])):  # Loop through each column\n",
    "                    if graph[i][j] == 1:  # If there is a connection (edge)\n",
    "                        count += 1  # Increment count\n",
    "                degree[f\"s{i+1}\"] = count  # Store the degree of node s(i+1)\n",
    "\n",
    "        else:  # Case 2: If the input is an edge list (list of tuples)\n",
    "            for edge in graph:\n",
    "                u, v = edge  # Unpack the two nodes forming the edge\n",
    "                \n",
    "                # Increase the degree count for both nodes in the edge\n",
    "                if u in degree:\n",
    "                    degree[u] = degree[u] + 1\n",
    "                else:\n",
    "                    degree[u] = 1\n",
    "                \n",
    "                if v in degree:\n",
    "                    degree[v] = degree[v] + 1\n",
    "                else:\n",
    "                    degree[v] = 1\n",
    "\n",
    "    else:  # Case 3: If the input is an adjacency list (dictionary)\n",
    "        for node in graph:  # Loop through each node\n",
    "            count = 0  # Initialize degree count\n",
    "            for _ in graph[node]:  # Count number of neighbors\n",
    "                count += 1  \n",
    "            degree[node] = count  # Store the degree\n",
    "\n",
    "    sorted_degree = dict(sorted(degree.items(), key=lambda item: item[1]))\n",
    "    return sorted_degree\n",
    "\n",
    "# Adjacency Matrix representation of a graph\n",
    "adj_matrix = [\n",
    "    [0,1,1,1,0],  \n",
    "    [1,0,0,0,1],  \n",
    "    [1,0,0,0,1],  \n",
    "    [1,0,0,0,0],  \n",
    "    [1,0,1,0,0]  \n",
    "]\n",
    "\n",
    "# Adjacency List representation of the same graph\n",
    "adj_list = {\n",
    "    \"s1\": [\"s2\", \"s3\", \"s4\"],\n",
    "    \"s2\": [\"s1\", \"s5\"],\n",
    "    \"s3\": [\"s1\", \"s5\"],\n",
    "    \"s4\": [\"s1\"],\n",
    "    \"s5\": [\"s2\", \"s3\"]\n",
    "}\n",
    "\n",
    "# Edge List representation (list of edges)\n",
    "edge_list = [\n",
    "    (\"s1\", \"s2\"),\n",
    "    (\"s1\", \"s3\"),\n",
    "    (\"s1\", \"s4\"),\n",
    "    (\"s2\", \"s5\"),\n",
    "    (\"s3\", \"s5\")\n",
    "]\n",
    "\n",
    "# Print degree of nodes for each representation\n",
    "print(degree_of_nodes(adj_matrix))  \n",
    "print(degree_of_nodes(adj_list))  \n",
    "print(degree_of_nodes(edge_list))  \n"
   ]
  },
  {
   "cell_type": "code",
   "execution_count": 36,
   "metadata": {},
   "outputs": [
    {
     "name": "stdout",
     "output_type": "stream",
     "text": [
      "Adjacency List from Matrix: {'s1': ['s2', 's3', 's4'], 's2': ['s1', 's5'], 's3': ['s1', 's5'], 's4': ['s1'], 's5': ['s1', 's3']}\n",
      "Edge List from Matrix: [('s1', 's2'), ('s1', 's3'), ('s1', 's4'), ('s2', 's5'), ('s3', 's5'), ('s5', 's1')]\n",
      "Adjacency Matrix from List: [[0, 1, 1, 1, 0], [1, 0, 0, 0, 1], [1, 0, 0, 0, 1], [1, 0, 0, 0, 0], [0, 1, 1, 0, 0]]\n",
      "Edge List from List: [('s1', 's2'), ('s1', 's3'), ('s1', 's4'), ('s2', 's5'), ('s3', 's5')]\n",
      "Adjacency Matrix from Edges: [[0, 1, 1, 1, 0], [1, 0, 0, 0, 1], [1, 0, 0, 0, 1], [1, 0, 0, 0, 0], [0, 1, 1, 0, 0]]\n",
      "Adjacency List from Edges: {'s1': ['s2', 's3', 's4'], 's2': ['s1', 's5'], 's3': ['s1', 's5'], 's4': ['s1'], 's5': ['s2', 's3']}\n"
     ]
    }
   ],
   "source": [
    "# 2. Write a code to inter-convert the 3 graph representations we have learnt.\n",
    "\n",
    "def edges_to_matrix_list(edge_list):\n",
    "    \"\"\"\n",
    "    Converts an Edge List into:\n",
    "    - Adjacency Matrix (list of lists)\n",
    "    - Adjacency List (dictionary)\n",
    "    \"\"\"\n",
    "    nodes = sorted(set(u for u, v in edge_list) | set(v for u, v in edge_list))  # Get unique nodes\n",
    "    n = len(nodes)  # Number of nodes\n",
    "    node_index = {node: i for i, node in enumerate(nodes)}  # Map node names to index\n",
    "\n",
    "    # Create an empty adjacency matrix (filled with 0s)\n",
    "    adjacency_matrix = [[0] * n for _ in range(n)]\n",
    "    \n",
    "    # Create an empty adjacency list\n",
    "    adjacency_list = {node: [] for node in nodes}\n",
    "\n",
    "    # Loop through the edge list\n",
    "    for u, v in edge_list:\n",
    "        # Update adjacency matrix\n",
    "        adjacency_matrix[node_index[u]][node_index[v]] = 1\n",
    "        adjacency_matrix[node_index[v]][node_index[u]] = 1  # Since it's undirected\n",
    "\n",
    "        # Update adjacency list\n",
    "        adjacency_list[u].append(v)\n",
    "        adjacency_list[v].append(u)\n",
    "\n",
    "    return adjacency_matrix, adjacency_list\n",
    "\n",
    "\n",
    "def list_to_matrix_edges(adjacency_list):\n",
    "    \"\"\"\n",
    "    Converts an Adjacency List into:\n",
    "    - Adjacency Matrix (list of lists)\n",
    "    - Edge List (list of tuples)\n",
    "    \"\"\"\n",
    "    nodes = sorted(adjacency_list.keys())  # Sort node names\n",
    "    n = len(nodes)  # Number of nodes\n",
    "    node_index = {node: i for i, node in enumerate(nodes)}  # Assign index to each node\n",
    "\n",
    "    # Create an empty adjacency matrix (filled with 0s)\n",
    "    adjacency_matrix = [[0] * n for _ in range(n)]\n",
    "    edge_list = []  # To store the edges\n",
    "\n",
    "    # Loop through the adjacency list\n",
    "    for node in adjacency_list:\n",
    "        for neighbor in adjacency_list[node]:\n",
    "            i, j = node_index[node], node_index[neighbor]  # Get matrix indices\n",
    "            adjacency_matrix[i][j] = 1  # Mark edge in the matrix\n",
    "            adjacency_matrix[j][i] = 1  # Since it's undirected\n",
    "\n",
    "            # Add to edge list (avoid duplicate edges)\n",
    "            if (neighbor, node) not in edge_list:\n",
    "                edge_list.append((node, neighbor))\n",
    "\n",
    "    return adjacency_matrix, edge_list\n",
    "\n",
    "def matrix_to_list_edges(matrix):\n",
    "    \"\"\"\n",
    "    Converts an Adjacency Matrix into:\n",
    "    - Adjacency List (dictionary)\n",
    "    - Edge List (list of tuples)\n",
    "    \"\"\"\n",
    "    n = len(matrix)  # Number of nodes\n",
    "    adjacency_list = {}  # To store the adjacency list\n",
    "    edge_list = []  # To store the list of edges\n",
    "\n",
    "    # Loop through the matrix row by row\n",
    "    for i in range(n):\n",
    "        node = f\"s{i+1}\"  # Create node names as \"s1\", \"s2\", etc.\n",
    "        adjacency_list[node] = []  # Initialize an empty list for each node\n",
    "        \n",
    "        # Loop through the row to check connections\n",
    "        for j in range(n):\n",
    "            if matrix[i][j] == 1:  # If there is a connection (edge)\n",
    "                adjacency_list[node].append(f\"s{j+1}\")  # Add to adjacency list\n",
    "                if (f\"s{j+1}\", node) not in edge_list:  # Avoid duplicate edges\n",
    "                    edge_list.append((node, f\"s{j+1}\"))\n",
    "\n",
    "    return adjacency_list, edge_list\n",
    "\n",
    "# Example Graph Representations\n",
    "\n",
    "# Adjacency Matrix (Graph stored as a 2D list)\n",
    "adj_matrix = [\n",
    "    [0,1,1,1,0],  \n",
    "    [1,0,0,0,1],  \n",
    "    [1,0,0,0,1],  \n",
    "    [1,0,0,0,0],  \n",
    "    [1,0,1,0,0]  \n",
    "]\n",
    "\n",
    "# Adjacency List (Graph stored as a dictionary)\n",
    "adj_list = {\n",
    "    \"s1\": [\"s2\", \"s3\", \"s4\"],\n",
    "    \"s2\": [\"s1\", \"s5\"],\n",
    "    \"s3\": [\"s1\", \"s5\"],\n",
    "    \"s4\": [\"s1\"],\n",
    "    \"s5\": [\"s2\", \"s3\"]\n",
    "}\n",
    "\n",
    "# Edge List (Graph stored as a list of edges)\n",
    "edge_list = [\n",
    "    (\"s1\", \"s2\"),\n",
    "    (\"s1\", \"s3\"),\n",
    "    (\"s1\", \"s4\"),\n",
    "    (\"s2\", \"s5\"),\n",
    "    (\"s3\", \"s5\")\n",
    "]\n",
    "\n",
    "# Convert Matrix to List & Edge List\n",
    "list_from_matrix, edges_from_matrix = matrix_to_list_edges(adj_matrix)\n",
    "print(\"Adjacency List from Matrix:\", list_from_matrix)\n",
    "print(\"Edge List from Matrix:\", edges_from_matrix)\n",
    "\n",
    "# Convert List to Matrix & Edge List\n",
    "matrix_from_list, edges_from_list = list_to_matrix_edges(adj_list)\n",
    "print(\"Adjacency Matrix from List:\", matrix_from_list)\n",
    "print(\"Edge List from List:\", edges_from_list)\n",
    "\n",
    "# Convert Edge List to Matrix & Adjacency List\n",
    "matrix_from_edges, list_from_edges = edges_to_matrix_list(edge_list)\n",
    "print(\"Adjacency Matrix from Edges:\", matrix_from_edges)\n",
    "print(\"Adjacency List from Edges:\", list_from_edges)\n"
   ]
  },
  {
   "cell_type": "code",
   "execution_count": 25,
   "metadata": {},
   "outputs": [
    {
     "name": "stdout",
     "output_type": "stream",
     "text": [
      "True\n",
      "5\n"
     ]
    }
   ],
   "source": [
    "\n",
    "# 3. Given a graph and two vertices, check if they are adjacent.\n",
    "def check_adjacent(graph,a,b):\n",
    "    for i in range(len(graph)-1):\n",
    "        if graph[a-1][b-1] == 1:\n",
    "            return True\n",
    "        else:\n",
    "            return False\n",
    "adj_matrix = [\n",
    "    [0,1,1,1,0],  \n",
    "    [1,0,0,0,1],  \n",
    "    [1,0,0,0,1],  \n",
    "    [1,0,0,0,0],  \n",
    "    [1,0,1,0,0] ]\n",
    "print(check_adjacent(adj_matrix,5,1))\n",
    "print(len(adj_matrix))\n",
    "            "
   ]
  },
  {
   "cell_type": "code",
   "execution_count": 24,
   "metadata": {},
   "outputs": [
    {
     "name": "stdout",
     "output_type": "stream",
     "text": [
      "True\n"
     ]
    }
   ],
   "source": [
    "# 4. Check if a graph is complete.\n",
    "\n",
    "def check_complete(graph):\n",
    "    for item in graph.values():\n",
    "        if len(graph) > len(item):\n",
    "            return True\n",
    "    return False\n",
    "\n",
    "adj_list = {\n",
    "    \"s1\": [\"s2\", \"s3\", \"s4\"],\n",
    "    \"s2\": [\"s1\", \"s5\"],\n",
    "    \"s3\": [\"s1\", \"s5\"],\n",
    "    \"s4\": [\"s1\"],\n",
    "    \"s5\": [\"s2\", \"s3\"]\n",
    "}\n",
    "print(check_complete(adj_list))"
   ]
  },
  {
   "cell_type": "code",
   "execution_count": 6,
   "metadata": {},
   "outputs": [
    {
     "name": "stdout",
     "output_type": "stream",
     "text": [
      "True\n"
     ]
    }
   ],
   "source": [
    "# 5. Check if a graph is connected.\n",
    "def check_connected(graph):\n",
    "    visited = []\n",
    "\n",
    "    # Pick the first node manually\n",
    "    for node in graph:\n",
    "        start = node\n",
    "        break\n",
    "\n",
    "    stack = [start]\n",
    "\n",
    "    while stack:\n",
    "        node = stack.pop()\n",
    "        if node not in visited:\n",
    "            visited.append(node)\n",
    "            for i in graph[node]:\n",
    "                if i not in visited:\n",
    "                    stack.append(i)\n",
    "\n",
    "    return len(visited) == len(graph)  # True if all nodes were visited\n",
    "\n",
    "\n",
    "adj_list = {\n",
    "    \"s1\": [\"s2\", \"s3\", \"s4\"],\n",
    "    \"s2\": [\"s1\", \"s5\"],\n",
    "    \"s3\": [\"s1\", \"s5\"],\n",
    "    \"s4\": [\"s1\"],\n",
    "    \"s5\": [\"s2\", \"s3\"]}\n",
    "print(check_connected(adj_list))"
   ]
  },
  {
   "cell_type": "markdown",
   "metadata": {},
   "source": [
    "Walk: A sequence of vertices where each pair of consecutive vertices are adjacent (can repeat vertices and edges).\n",
    "\n",
    "Trail: A walk where no edge is repeated.\n",
    "\n",
    "Path: A trail where no vertex is repeated."
   ]
  },
  {
   "cell_type": "code",
   "execution_count": null,
   "metadata": {},
   "outputs": [
    {
     "name": "stdout",
     "output_type": "stream",
     "text": [
      "Path\n",
      "Walk\n",
      "Walk\n",
      "None\n"
     ]
    }
   ],
   "source": [
    "# 6. Given a graph and a list of vertices, check if it forms a walk, or a trail or a path or none of these.\n",
    "\n",
    "# 1. Check if all consecutive vertices are connected\n",
    "def is_walk(graph, vertices):\n",
    "    for i in range(len(vertices) - 1):\n",
    "        u = vertices[i]\n",
    "        v = vertices[i + 1]\n",
    "        if v not in graph[u]:\n",
    "            return False\n",
    "    return True\n",
    "\n",
    "# 2. Check if no edge is repeated\n",
    "def is_trail(vertices):\n",
    "    edges = set()\n",
    "    for i in range(len(vertices) - 1):\n",
    "        edge = tuple(sorted((vertices[i], vertices[i + 1])))\n",
    "        if edge in edges:\n",
    "            return False\n",
    "        edges.add(edge)\n",
    "    return True\n",
    "\n",
    "# 3. Check if no vertex is repeated\n",
    "def is_path(vertices):\n",
    "    return len(set(vertices)) == len(vertices)\n",
    "\n",
    "# 4. Combine checks\n",
    "def check_walk_type(graph, vertices):\n",
    "    if not is_walk(graph, vertices):\n",
    "        return \"None\"\n",
    "    elif is_path(vertices):\n",
    "        return \"Path\"\n",
    "    elif is_trail(vertices):\n",
    "        return \"Trail\"\n",
    "    else:\n",
    "        return \"Walk\"\n",
    "\n",
    "# Example graph\n",
    "adj_list = {\n",
    "    \"s1\": [\"s2\", \"s3\", \"s4\"],\n",
    "    \"s2\": [\"s1\", \"s5\"],\n",
    "    \"s3\": [\"s1\", \"s5\"],\n",
    "    \"s4\": [\"s1\"],\n",
    "    \"s5\": [\"s2\", \"s3\"]\n",
    "}\n",
    "\n",
    "# Test cases\n",
    "print(check_walk_type(adj_list, [\"s1\", \"s2\", \"s5\"]))             # Path\n",
    "print(check_walk_type(adj_list, [\"s1\", \"s2\", \"s5\", \"s2\"]))       # Trail\n",
    "print(check_walk_type(adj_list, [\"s1\", \"s2\", \"s5\", \"s2\", \"s1\"])) # Walk\n",
    "print(check_walk_type(adj_list, [\"s1\", \"s5\", \"s2\"]))             # None\n"
   ]
  },
  {
   "cell_type": "markdown",
   "metadata": {},
   "source": [
    "<h2>A graph is a tree if:</h2>\n",
    "\n",
    "It is connected (there’s a path between every pair of vertices), and\n",
    "\n",
    "It has no cycles (acyclic).\n",
    "\n",
    "It has exactly (n - 1) edges for n vertices (for undirected graphs)."
   ]
  },
  {
   "cell_type": "code",
   "execution_count": null,
   "metadata": {},
   "outputs": [
    {
     "name": "stdout",
     "output_type": "stream",
     "text": [
      "True\n"
     ]
    }
   ],
   "source": [
    "# 7 Check if a given graph is a tree.\n",
    "def check_tree(graph):\n",
    "    visited = []\n",
    "    \n",
    "    # Pick the first node manually\n",
    "    for node in graph:\n",
    "        start = node\n",
    "        break\n",
    "\n",
    "    stack = [start]\n",
    "\n",
    "    while stack:\n",
    "        node = stack.pop()\n",
    "        if node in visited:\n",
    "            return False  # Cycle found\n",
    "        visited.append(node)\n",
    "        for neighbor in graph[node]:\n",
    "            if neighbor not in visited:\n",
    "                stack.append(neighbor)\n",
    "\n",
    "    return len(visited) == len(graph)  # True if all nodes are visited\n",
    "\n",
    "# Example graph\n",
    "graph = {\n",
    "    \"A\": [\"B\", \"C\"],\n",
    "    \"B\": [\"A\", \"D\", \"E\"],\n",
    "    \"C\": [\"A\"],\n",
    "    \"D\": [\"B\"],\n",
    "    \"E\": [\"B\"]\n",
    "}\n",
    "\n",
    "print(check_tree(graph))  # Output: True\n"
   ]
  },
  {
   "cell_type": "markdown",
   "metadata": {},
   "source": [
    "<h2>A valid spanning tree must:</h2>\n",
    "\n",
    "Connect all the nodes (i.e., the graph is connected).\n",
    "\n",
    "Have no cycles.\n",
    "\n",
    "Have exactly (n - 1) edges for n nodes."
   ]
  },
  {
   "cell_type": "code",
   "execution_count": null,
   "metadata": {},
   "outputs": [
    {
     "name": "stdout",
     "output_type": "stream",
     "text": [
      "Spanning Tree as list of edges (tuples):\n",
      "[('A', 'B'), ('A', 'C'), ('C', 'B'), ('C', 'E'), ('B', 'D')]\n"
     ]
    }
   ],
   "source": [
    "# 8 Given a connected cyclic graph, find its spanning tree.\n",
    "\n",
    "def find_spanning_tree(graph):\n",
    "    visited = []\n",
    "    tree = []\n",
    "    stack = []\n",
    "\n",
    "    # Pick first node\n",
    "    for node in graph:\n",
    "        start = node\n",
    "        break\n",
    "\n",
    "    stack.append(start)\n",
    "\n",
    "    while stack:\n",
    "        node = stack.pop()\n",
    "        if node not in visited:\n",
    "            visited.append(node)\n",
    "            for i in graph[node]:\n",
    "                if i not in visited:\n",
    "                    tree.append((node, i))\n",
    "                    stack.append(i)\n",
    "\n",
    "    return tree\n",
    "\n",
    "# Example cyclic graph\n",
    "graph = {\n",
    "    \"A\": [\"B\", \"C\"],\n",
    "    \"B\": [\"A\", \"C\", \"D\"],\n",
    "    \"C\": [\"A\", \"B\", \"E\"],\n",
    "    \"D\": [\"B\"],\n",
    "    \"E\": [\"C\"]\n",
    "}\n",
    "\n",
    "spanning_tree = find_spanning_tree(graph)\n",
    "\n",
    "\n",
    "print(\"Spanning Tree as list of edges (tuples):\")\n",
    "print(spanning_tree)\n"
   ]
  },
  {
   "cell_type": "markdown",
   "metadata": {},
   "source": [
    "<h3>What is a Leaf Node?</h3>\n",
    "Leaf nodes are nodes that have only one connection and do not have children (for non-root nodes).\n",
    "\n",
    "The root node can have more than one child, but it is not a leaf node.\n",
    "\n"
   ]
  },
  {
   "cell_type": "code",
   "execution_count": 11,
   "metadata": {},
   "outputs": [
    {
     "name": "stdout",
     "output_type": "stream",
     "text": [
      "Number of leaf nodes: 4\n"
     ]
    }
   ],
   "source": [
    "# 9 Given a tree, find the number of leaf nodes.\n",
    "def count_leaf_nodes(tree):\n",
    "    leaf_count = 0\n",
    "\n",
    "    # Check each node in the tree\n",
    "    for node in tree:\n",
    "        # A leaf node has exactly one connection and no children\n",
    "        if len(tree[node]) == 1:  # Only one connection (the parent)\n",
    "            leaf_count += 1\n",
    "    \n",
    "    return leaf_count\n",
    "\n",
    "# Example tree (as an adjacency list)\n",
    "tree = {\n",
    "    \"A\": [\"B\", \"C\"],  # Root node has two children\n",
    "    \"B\": [\"A\"],  # Leaf node\n",
    "    \"C\": [\"A\"],  # Leaf node\n",
    "    \"D\": [\"B\", \"E\", \"F\"],  # Non-leaf node with three children\n",
    "    \"E\": [\"D\"],  # Leaf node\n",
    "    \"F\": [\"D\"],  # Leaf node\n",
    "}\n",
    "\n",
    "print(\"Number of leaf nodes:\", count_leaf_nodes(tree))\n",
    "\n"
   ]
  },
  {
   "cell_type": "markdown",
   "metadata": {},
   "source": [
    "<h3>If a tree is a binary tree, we need to ensure that:</h3>\n",
    "\n",
    "Each node in the tree has at most two children (i.e., it cannot have more than two connected nodes).\n",
    "\n",
    "The tree should not contain any cycles (which is inherently true if the tree is given as an acyclic graph).\n",
    "\n",
    "<h3>Approach:</h3>\n",
    "Binary tree property: Every node can have at most two children. If any node has more than two children, it is not a binary tree."
   ]
  },
  {
   "cell_type": "code",
   "execution_count": null,
   "metadata": {},
   "outputs": [
    {
     "name": "stdout",
     "output_type": "stream",
     "text": [
      "Is the tree a binary tree? \n",
      " : False\n"
     ]
    }
   ],
   "source": [
    "# 10. Given a tree, check if it's a binary tree.\n",
    "\n",
    "def is_binary_tree(tree):\n",
    "    # Check if any node has more than two children\n",
    "    for node in tree:\n",
    "        if len(tree[node]) > 2:\n",
    "            return False  # More than two children, not a binary tree\n",
    "    return True\n",
    "\n",
    "# Example tree (as an adjacency list)\n",
    "tree = {\n",
    "    \"A\": [\"B\", \"C\"],  # Root node has two children\n",
    "    \"B\": [\"A\"],  # Leaf node\n",
    "    \"C\": [\"A\"],  # Leaf node\n",
    "    \"D\": [\"B\", \"E\", \"F\"],  # Non-leaf node with three children (invalid for binary tree)\n",
    "    \"E\": [\"D\"],  # Leaf node\n",
    "    \"F\": [\"D\"],  # Leaf node\n",
    "}\n",
    "\n",
    "print(\"Is the tree a binary tree? \\n :\", is_binary_tree(tree))  # Output: False\n"
   ]
  },
  {
   "cell_type": "markdown",
   "metadata": {},
   "source": [
    "<h4>Height of a node:</h4> The number of edges on the longest path from the node to a leaf.\n",
    "\n",
    "<h4>Height of a tree:</h4> The height of the root node."
   ]
  },
  {
   "cell_type": "code",
   "execution_count": 18,
   "metadata": {},
   "outputs": [
    {
     "name": "stdout",
     "output_type": "stream",
     "text": [
      "The height of node A is: 2\n"
     ]
    }
   ],
   "source": [
    "# 11. Given a tree and a node, find its height.\n",
    "\n",
    "def find_node_height(tree, node):\n",
    "    # If the node has no children, it is a leaf node and its height is 0.\n",
    "    if node not in tree or len(tree[node]) == 0:\n",
    "        return 0\n",
    "\n",
    "    # Recursively find the height of the children and return the max height\n",
    "    heights = []\n",
    "    for child in tree[node]:\n",
    "        heights.append(find_node_height(tree, child))\n",
    "    \n",
    "    return 1 + max(heights)\n",
    "\n",
    "\n",
    "tree = {\n",
    "    \"A\": [\"B\", \"C\"],\n",
    "    \"B\": [\"D\", \"E\"],\n",
    "    \"C\": [],\n",
    "    \"D\": [],\n",
    "    \"E\": []\n",
    "}\n",
    "\n",
    "# Find the height of node \"A\"\n",
    "node = \"A\"\n",
    "print(f\"The height of node {node} is:\", find_node_height(tree, node))\n"
   ]
  },
  {
   "cell_type": "markdown",
   "metadata": {},
   "source": [
    "<h3>Depth of a Node:</h3>\n",
    "Depth of the root node: 0.\n",
    "\n",
    "Depth of any other node: The depth of its parent node plus 1."
   ]
  },
  {
   "cell_type": "code",
   "execution_count": null,
   "metadata": {},
   "outputs": [
    {
     "name": "stdout",
     "output_type": "stream",
     "text": [
      "The depth of node B is: 1\n"
     ]
    }
   ],
   "source": [
    "# 12. Given a tree and a node, find its depth.\n",
    "\n",
    "def find_node_depth(tree, node, current_depth=0):\n",
    "    # Check if the node is the root (or has no parent)\n",
    "    if node == list(tree.keys())[0]:\n",
    "        return current_depth\n",
    "    \n",
    "    # Recursively check the depth of the node\n",
    "    for parent, children in tree.items():\n",
    "        if node in children:\n",
    "            return find_node_depth(tree, parent, current_depth + 1)\n",
    "\n",
    "    return None  # If node is not found in the tree\n",
    "\n",
    "\n",
    "tree = {\n",
    "    \"A\": [\"B\", \"C\"],  # Root node\n",
    "    \"B\": [\"D\", \"E\"],\n",
    "    \"C\": [],\n",
    "    \"D\": [],\n",
    "    \"E\": []\n",
    "}\n",
    "\n",
    "# Find the depth of node \"B\"\n",
    "node = \"B\"\n",
    "print(f\"The depth of node {node} is:\", find_node_depth(tree, node))  # Output: 1\n"
   ]
  },
  {
   "cell_type": "code",
   "execution_count": null,
   "metadata": {},
   "outputs": [],
   "source": []
  }
 ],
 "metadata": {
  "kernelspec": {
   "display_name": "Python 3",
   "language": "python",
   "name": "python3"
  },
  "language_info": {
   "codemirror_mode": {
    "name": "ipython",
    "version": 3
   },
   "file_extension": ".py",
   "mimetype": "text/x-python",
   "name": "python",
   "nbconvert_exporter": "python",
   "pygments_lexer": "ipython3",
   "version": "3.12.5"
  }
 },
 "nbformat": 4,
 "nbformat_minor": 2
}
